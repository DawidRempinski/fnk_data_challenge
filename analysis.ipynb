{
 "cells": [
  {
   "cell_type": "code",
   "execution_count": 11,
   "id": "9bafe059",
   "metadata": {},
   "outputs": [],
   "source": [
    "import duckdb\n",
    "import dtale\n",
    "import pandas as pd"
   ]
  },
  {
   "cell_type": "code",
   "execution_count": 21,
   "id": "eec5aa7d",
   "metadata": {},
   "outputs": [],
   "source": [
    "APP_USAGE_PATH = \"data/dataset_app_usage.csv\"\n",
    "WEB_USAGE_PATH = \"data/dataset_web_usage.csv\"\n",
    "\n",
    "con = duckdb.connect()\n",
    "df_app = con.execute(f\"SELECT * FROM read_csv_auto('{APP_USAGE_PATH}')\").df()\n",
    "df_web = con.execute(f\"SELECT * FROM read_csv_auto('{WEB_USAGE_PATH}')\").df()"
   ]
  },
  {
   "cell_type": "code",
   "execution_count": null,
   "id": "cfb235d1",
   "metadata": {},
   "outputs": [],
   "source": [
    "print(df_app.shape)\n",
    "df_app.head()"
   ]
  },
  {
   "cell_type": "code",
   "execution_count": null,
   "id": "5371463c",
   "metadata": {},
   "outputs": [],
   "source": [
    "df_app.info()\n",
    "df_app.describe()"
   ]
  },
  {
   "cell_type": "code",
   "execution_count": null,
   "id": "5197f7ee",
   "metadata": {},
   "outputs": [],
   "source": [
    "print(df_web.shape)\n",
    "df_web.head()"
   ]
  },
  {
   "cell_type": "code",
   "execution_count": null,
   "id": "1d728823",
   "metadata": {},
   "outputs": [],
   "source": [
    "df_web.info()\n",
    "df_web.describe()"
   ]
  },
  {
   "cell_type": "code",
   "execution_count": null,
   "id": "c775c92c",
   "metadata": {},
   "outputs": [],
   "source": [
    "# Use dtale library to dig deeper into the data\n",
    "dtale.show(df_app, open_browser=True)\n",
    "dtale.show(df_web, open_browser=True)"
   ]
  }
 ],
 "metadata": {
  "kernelspec": {
   "display_name": ".venv",
   "language": "python",
   "name": "python3"
  },
  "language_info": {
   "codemirror_mode": {
    "name": "ipython",
    "version": 3
   },
   "file_extension": ".py",
   "mimetype": "text/x-python",
   "name": "python",
   "nbconvert_exporter": "python",
   "pygments_lexer": "ipython3",
   "version": "3.11.2"
  }
 },
 "nbformat": 4,
 "nbformat_minor": 5
}
